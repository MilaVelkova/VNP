{
 "cells": [
  {
   "cell_type": "code",
   "execution_count": 62,
   "id": "fc412158-cd4d-45fb-b32e-b1a44cc8a951",
   "metadata": {},
   "outputs": [
    {
     "name": "stderr",
     "output_type": "stream",
     "text": [
      "Downloading...\n",
      "From: https://drive.google.com/uc?id=1boIax8d9Sat6OJzkiIjjpqmtSZKuRYrx\n",
      "To: C:\\Users\\Mila\\ElectricCarData.csv\n",
      "\n",
      "  0%|          | 0.00/8.20k [00:00<?, ?B/s]\n",
      "100%|##########| 8.20k/8.20k [00:00<?, ?B/s]\n"
     ]
    }
   ],
   "source": [
    "!gdown 1boIax8d9Sat6OJzkiIjjpqmtSZKuRYrx"
   ]
  },
  {
   "cell_type": "code",
   "execution_count": 63,
   "id": "2ab1620d-34f8-4bf7-9d34-b13ab780b533",
   "metadata": {},
   "outputs": [],
   "source": [
    "import pandas as pd"
   ]
  },
  {
   "cell_type": "code",
   "execution_count": 64,
   "id": "d548d541-2fbf-4ceb-b1a4-0e9936f6fc7c",
   "metadata": {},
   "outputs": [],
   "source": [
    "data = pd.read_csv('ElectricCarData.csv')"
   ]
  },
  {
   "cell_type": "code",
   "execution_count": 65,
   "id": "8f7b9098-dede-44d5-a8f6-d5265962e200",
   "metadata": {},
   "outputs": [
    {
     "data": {
      "text/html": [
       "<div>\n",
       "<style scoped>\n",
       "    .dataframe tbody tr th:only-of-type {\n",
       "        vertical-align: middle;\n",
       "    }\n",
       "\n",
       "    .dataframe tbody tr th {\n",
       "        vertical-align: top;\n",
       "    }\n",
       "\n",
       "    .dataframe thead th {\n",
       "        text-align: right;\n",
       "    }\n",
       "</style>\n",
       "<table border=\"1\" class=\"dataframe\">\n",
       "  <thead>\n",
       "    <tr style=\"text-align: right;\">\n",
       "      <th></th>\n",
       "      <th>Brand</th>\n",
       "      <th>Model</th>\n",
       "      <th>AccelSec</th>\n",
       "      <th>TopSpeed_KmH</th>\n",
       "      <th>Range_Km</th>\n",
       "      <th>Efficiency_WhKm</th>\n",
       "      <th>FastCharge_KmH</th>\n",
       "      <th>RapidCharge</th>\n",
       "      <th>PowerTrain</th>\n",
       "      <th>PlugType</th>\n",
       "      <th>BodyStyle</th>\n",
       "      <th>Segment</th>\n",
       "      <th>Seats</th>\n",
       "      <th>PriceEuro</th>\n",
       "    </tr>\n",
       "  </thead>\n",
       "  <tbody>\n",
       "    <tr>\n",
       "      <th>0</th>\n",
       "      <td>Tesla</td>\n",
       "      <td>Model 3 Long Range Dual Motor</td>\n",
       "      <td>4.6</td>\n",
       "      <td>233</td>\n",
       "      <td>450</td>\n",
       "      <td>161</td>\n",
       "      <td>940</td>\n",
       "      <td>Yes</td>\n",
       "      <td>AWD</td>\n",
       "      <td>Type 2 CCS</td>\n",
       "      <td>Sedan</td>\n",
       "      <td>D</td>\n",
       "      <td>5</td>\n",
       "      <td>55480</td>\n",
       "    </tr>\n",
       "    <tr>\n",
       "      <th>1</th>\n",
       "      <td>Volkswagen</td>\n",
       "      <td>ID.3 Pure</td>\n",
       "      <td>10.0</td>\n",
       "      <td>160</td>\n",
       "      <td>270</td>\n",
       "      <td>167</td>\n",
       "      <td>250</td>\n",
       "      <td>Yes</td>\n",
       "      <td>RWD</td>\n",
       "      <td>Type 2 CCS</td>\n",
       "      <td>Hatchback</td>\n",
       "      <td>C</td>\n",
       "      <td>5</td>\n",
       "      <td>30000</td>\n",
       "    </tr>\n",
       "    <tr>\n",
       "      <th>2</th>\n",
       "      <td>Polestar</td>\n",
       "      <td>2</td>\n",
       "      <td>4.7</td>\n",
       "      <td>210</td>\n",
       "      <td>400</td>\n",
       "      <td>181</td>\n",
       "      <td>620</td>\n",
       "      <td>Yes</td>\n",
       "      <td>AWD</td>\n",
       "      <td>Type 2 CCS</td>\n",
       "      <td>Liftback</td>\n",
       "      <td>D</td>\n",
       "      <td>5</td>\n",
       "      <td>56440</td>\n",
       "    </tr>\n",
       "    <tr>\n",
       "      <th>3</th>\n",
       "      <td>BMW</td>\n",
       "      <td>iX3</td>\n",
       "      <td>6.8</td>\n",
       "      <td>180</td>\n",
       "      <td>360</td>\n",
       "      <td>206</td>\n",
       "      <td>560</td>\n",
       "      <td>Yes</td>\n",
       "      <td>RWD</td>\n",
       "      <td>Type 2 CCS</td>\n",
       "      <td>SUV</td>\n",
       "      <td>D</td>\n",
       "      <td>5</td>\n",
       "      <td>68040</td>\n",
       "    </tr>\n",
       "    <tr>\n",
       "      <th>4</th>\n",
       "      <td>Honda</td>\n",
       "      <td>e</td>\n",
       "      <td>9.5</td>\n",
       "      <td>145</td>\n",
       "      <td>170</td>\n",
       "      <td>168</td>\n",
       "      <td>190</td>\n",
       "      <td>Yes</td>\n",
       "      <td>RWD</td>\n",
       "      <td>Type 2 CCS</td>\n",
       "      <td>Hatchback</td>\n",
       "      <td>B</td>\n",
       "      <td>4</td>\n",
       "      <td>32997</td>\n",
       "    </tr>\n",
       "  </tbody>\n",
       "</table>\n",
       "</div>"
      ],
      "text/plain": [
       "         Brand                          Model  AccelSec  TopSpeed_KmH  \\\n",
       "0       Tesla   Model 3 Long Range Dual Motor       4.6           233   \n",
       "1  Volkswagen                       ID.3 Pure      10.0           160   \n",
       "2    Polestar                               2       4.7           210   \n",
       "3         BMW                            iX3        6.8           180   \n",
       "4       Honda                              e        9.5           145   \n",
       "\n",
       "   Range_Km  Efficiency_WhKm FastCharge_KmH RapidCharge PowerTrain  \\\n",
       "0       450              161            940         Yes        AWD   \n",
       "1       270              167            250         Yes        RWD   \n",
       "2       400              181            620         Yes        AWD   \n",
       "3       360              206            560         Yes        RWD   \n",
       "4       170              168            190         Yes        RWD   \n",
       "\n",
       "     PlugType  BodyStyle Segment  Seats  PriceEuro  \n",
       "0  Type 2 CCS      Sedan       D      5      55480  \n",
       "1  Type 2 CCS  Hatchback       C      5      30000  \n",
       "2  Type 2 CCS   Liftback       D      5      56440  \n",
       "3  Type 2 CCS        SUV       D      5      68040  \n",
       "4  Type 2 CCS  Hatchback       B      4      32997  "
      ]
     },
     "execution_count": 65,
     "metadata": {},
     "output_type": "execute_result"
    }
   ],
   "source": [
    "data.head()"
   ]
  },
  {
   "cell_type": "code",
   "execution_count": 66,
   "id": "a3598804-4ea3-4dd9-a3d3-918c83c79aff",
   "metadata": {},
   "outputs": [],
   "source": [
    "from sklearn.preprocessing import LabelEncoder\n",
    "label_encoder = LabelEncoder()"
   ]
  },
  {
   "cell_type": "code",
   "execution_count": 67,
   "id": "0b0794e2-b61d-4321-a459-1ecaaa908da6",
   "metadata": {},
   "outputs": [],
   "source": [
    "data['Brand'] = label_encoder.fit_transform(data['Brand'])\n",
    "data['Model'] = label_encoder.fit_transform(data['Model'])\n",
    "data['RapidCharge'] = label_encoder.fit_transform(data['RapidCharge'])\n",
    "data['PowerTrain'] = label_encoder.fit_transform(data['PowerTrain'])\n",
    "data['PlugType'] = label_encoder.fit_transform(data['PlugType'])\n",
    "data['BodyStyle'] = label_encoder.fit_transform(data['BodyStyle'])\n",
    "data['Segment'] = label_encoder.fit_transform(data['Segment'])"
   ]
  },
  {
   "cell_type": "code",
   "execution_count": 68,
   "id": "90d4025f-689b-4f99-a2c4-069df02de8a4",
   "metadata": {},
   "outputs": [
    {
     "name": "stdout",
     "output_type": "stream",
     "text": [
      "     Brand  Model  AccelSec  TopSpeed_KmH  Range_Km  Efficiency_WhKm  \\\n",
      "0       30     46       4.6           233       450              161   \n",
      "1       31     33      10.0           160       270              167   \n",
      "2       23      0       4.7           210       400              181   \n",
      "3        2    101       6.8           180       360              206   \n",
      "4        9     78       9.5           145       170              168   \n",
      "..     ...    ...       ...           ...       ...              ...   \n",
      "98      20      6       7.5           160       330              191   \n",
      "99       1     94       4.5           210       335              258   \n",
      "100     20      8       5.9           200       325              194   \n",
      "101     20     10       5.1           200       375              232   \n",
      "102      3     42       7.5           190       400              238   \n",
      "\n",
      "    FastCharge_KmH  RapidCharge  PowerTrain  PlugType  BodyStyle  Segment  \\\n",
      "0              940            1           0         2          7        3   \n",
      "1              250            1           2         2          1        2   \n",
      "2              620            1           0         2          2        3   \n",
      "3              560            1           2         2          6        3   \n",
      "4              190            1           2         2          1        1   \n",
      "..             ...          ...         ...       ...        ...      ...   \n",
      "98             440            1           1         2          1        2   \n",
      "99             540            1           0         2          6        4   \n",
      "100            440            1           0         2          1        2   \n",
      "101            450            1           0         2          1        2   \n",
      "102            480            1           0         2          6        4   \n",
      "\n",
      "     Seats  PriceEuro  \n",
      "0        5      55480  \n",
      "1        5      30000  \n",
      "2        5      56440  \n",
      "3        5      68040  \n",
      "4        4      32997  \n",
      "..     ...        ...  \n",
      "98       5      45000  \n",
      "99       5      96050  \n",
      "100      5      50000  \n",
      "101      5      65000  \n",
      "102      5      62000  \n",
      "\n",
      "[103 rows x 14 columns]\n"
     ]
    }
   ],
   "source": [
    "print(data)"
   ]
  },
  {
   "cell_type": "code",
   "execution_count": 69,
   "id": "6c85a1b2-ab7b-4b06-83f0-08f7c9f51ad8",
   "metadata": {},
   "outputs": [],
   "source": [
    "import numpy as np\n",
    "data.replace('-', np.nan, inplace=True)"
   ]
  },
  {
   "cell_type": "code",
   "execution_count": 70,
   "id": "dfc2048c-b096-4e40-aa55-dbd91680eac4",
   "metadata": {},
   "outputs": [],
   "source": [
    "data.dropna(inplace=True)"
   ]
  },
  {
   "cell_type": "code",
   "execution_count": 71,
   "id": "ddd8f4f9-d9b1-4f94-b386-0f25df3ddc0e",
   "metadata": {},
   "outputs": [],
   "source": [
    "data = data.apply(pd.to_numeric, errors='coerce')"
   ]
  },
  {
   "cell_type": "code",
   "execution_count": 72,
   "id": "664da888-906f-4d04-ba6d-38ebf8ba42b1",
   "metadata": {},
   "outputs": [
    {
     "name": "stdout",
     "output_type": "stream",
     "text": [
      "X_train shape: (78, 13)\n",
      "X_test shape: (20, 13)\n",
      "y_train shape: (78,)\n",
      "y_test shape: (20,)\n"
     ]
    }
   ],
   "source": [
    "from sklearn.model_selection import train_test_split\n",
    "\n",
    "X = data.drop('PriceEuro', axis=1)  \n",
    "y = data['PriceEuro']\n",
    "\n",
    "\n",
    "X_train, X_test, y_train, y_test = train_test_split(X, y, test_size=0.2, random_state=42)\n",
    "\n",
    "\n",
    "print(\"X_train shape:\", X_train.shape)\n",
    "print(\"X_test shape:\", X_test.shape)\n",
    "print(\"y_train shape:\", y_train.shape)\n",
    "print(\"y_test shape:\", y_test.shape)\n"
   ]
  },
  {
   "cell_type": "code",
   "execution_count": 73,
   "id": "4efa97f4-7093-45ad-bc49-037e5d50157c",
   "metadata": {},
   "outputs": [
    {
     "name": "stdout",
     "output_type": "stream",
     "text": [
      "Training RMSE: 4558.76311428678\n"
     ]
    }
   ],
   "source": [
    "from sklearn.tree import DecisionTreeRegressor\n",
    "from sklearn.metrics import mean_squared_error\n",
    "from sklearn.model_selection import cross_val_score\n",
    "\n",
    "tree_reg = DecisionTreeRegressor(max_depth=5, min_samples_split=2, max_features=None, random_state=42)\n",
    "\n",
    "tree_reg.fit(X_train, y_train)\n",
    "\n",
    "y_train_pred = tree_reg.predict(X_train)\n",
    "\n",
    "train_rmse = mean_squared_error(y_train, y_train_pred, squared=False)\n",
    "print(\"Training RMSE:\", train_rmse)"
   ]
  },
  {
   "cell_type": "code",
   "execution_count": 74,
   "id": "65fd193d-cd85-409b-9e1e-5033cce28b53",
   "metadata": {},
   "outputs": [
    {
     "name": "stdout",
     "output_type": "stream",
     "text": [
      "Predicted Outcomes on Test Set: [54772.8        65310.         89895.         50000.\n",
      " 36418.14285714 71614.33333333 89895.         71614.33333333\n",
      " 54772.8        65310.         37054.18181818 54772.8\n",
      " 89895.         28887.41666667 28887.41666667 36418.14285714\n",
      " 37054.18181818 36418.14285714 42188.33333333 36418.14285714]\n"
     ]
    }
   ],
   "source": [
    "y_test_pred = tree_reg.predict(X_test)\n",
    "print(\"Predicted Outcomes on Test Set:\", y_test_pred)"
   ]
  },
  {
   "cell_type": "code",
   "execution_count": 75,
   "id": "c2e85ea5-043a-4050-ad6b-0550e75c9d55",
   "metadata": {},
   "outputs": [
    {
     "name": "stdout",
     "output_type": "stream",
     "text": [
      "Mean Absolute Error (MAE): 8259.790952380954\n",
      "Mean Squared Error (MSE): 111105085.9859217\n",
      "Root Mean Squared Error (RMSE): 10540.639733238286\n",
      "R-squared (R2) Score: 0.8408744802780284\n"
     ]
    }
   ],
   "source": [
    "from sklearn.metrics import mean_absolute_error, mean_squared_error, r2_score\n",
    "\n",
    "\n",
    "mae = mean_absolute_error(y_test, y_test_pred)\n",
    "mse = mean_squared_error(y_test, y_test_pred)\n",
    "rmse = mean_squared_error(y_test, y_test_pred, squared=False)  \n",
    "r2 = r2_score(y_test, y_test_pred)\n",
    "\n",
    "print(\"Mean Absolute Error (MAE):\", mae)\n",
    "print(\"Mean Squared Error (MSE):\", mse)\n",
    "print(\"Root Mean Squared Error (RMSE):\", rmse)\n",
    "print(\"R-squared (R2) Score:\", r2)\n"
   ]
  },
  {
   "cell_type": "code",
   "execution_count": 76,
   "id": "c99ec2fa-e8a1-464e-ad96-b6841ba85641",
   "metadata": {},
   "outputs": [
    {
     "name": "stdout",
     "output_type": "stream",
     "text": [
      "Training RMSE (XGB): 1343.18022756834\n"
     ]
    }
   ],
   "source": [
    "from xgboost import XGBRegressor\n",
    "from sklearn.metrics import mean_squared_error\n",
    "from sklearn.model_selection import cross_val_score\n",
    "\n",
    "xgb_reg = XGBRegressor(\n",
    "    n_estimators=100, \n",
    "    max_depth=3,       \n",
    "    learning_rate=0.1,  \n",
    "    objective='reg:squarederror',  \n",
    "    random_state=42\n",
    ")\n",
    "\n",
    "xgb_reg.fit(X_train, y_train)\n",
    "\n",
    "y_train_pred_xgb = xgb_reg.predict(X_train)\n",
    "\n",
    "train_rmse_xgb = mean_squared_error(y_train, y_train_pred_xgb, squared=False)\n",
    "print(\"Training RMSE (XGB):\", train_rmse_xgb)\n"
   ]
  },
  {
   "cell_type": "code",
   "execution_count": 77,
   "id": "58fdc703-7ee9-40a5-94df-6c47d597118d",
   "metadata": {},
   "outputs": [
    {
     "name": "stdout",
     "output_type": "stream",
     "text": [
      "Predicted Outcomes on Test Set (XGBoost): [ 74432.9    93048.766  95322.02   37017.543  37174.395  67248.98\n",
      " 112861.29   76343.54   61079.957  64652.008  40009.723  61756.98\n",
      " 107958.63   33593.605  23952.104  34828.035  34866.26   35797.164\n",
      "  38986.914  32171.5  ]\n"
     ]
    }
   ],
   "source": [
    "y_test_pred_xgb = xgb_reg.predict(X_test)\n",
    "\n",
    "print(\"Predicted Outcomes on Test Set (XGBoost):\", y_test_pred_xgb)"
   ]
  },
  {
   "cell_type": "code",
   "execution_count": 78,
   "id": "6662e58d-16c2-4ee1-ae64-46f46f2db70a",
   "metadata": {},
   "outputs": [
    {
     "name": "stdout",
     "output_type": "stream",
     "text": [
      "Mean Absolute Error (MAE) - XGBoost: 4221.23369140625\n",
      "Mean Squared Error (MSE) - XGBoost: 28797322.413887214\n",
      "Root Mean Squared Error (RMSE) - XGBoost: 5366.313670844001\n",
      "R-squared (R2) Score - XGBoost: 0.9587562634505172\n"
     ]
    }
   ],
   "source": [
    "from sklearn.metrics import mean_absolute_error, mean_squared_error, r2_score\n",
    "\n",
    "mae_xgb = mean_absolute_error(y_test, y_test_pred_xgb)\n",
    "mse_xgb = mean_squared_error(y_test, y_test_pred_xgb)\n",
    "rmse_xgb = mean_squared_error(y_test, y_test_pred_xgb, squared=False)  \n",
    "r2_xgb = r2_score(y_test, y_test_pred_xgb)\n",
    "\n",
    "\n",
    "print(\"Mean Absolute Error (MAE) - XGBoost:\", mae_xgb)\n",
    "print(\"Mean Squared Error (MSE) - XGBoost:\", mse_xgb)\n",
    "print(\"Root Mean Squared Error (RMSE) - XGBoost:\", rmse_xgb)\n",
    "print(\"R-squared (R2) Score - XGBoost:\", r2_xgb)\n"
   ]
  },
  {
   "cell_type": "code",
   "execution_count": 80,
   "id": "625612d0-5e40-431e-ad16-7360dbfd328b",
   "metadata": {},
   "outputs": [
    {
     "name": "stdout",
     "output_type": "stream",
     "text": [
      "DecisionTreeRegressor Metrics:\n",
      "MAE: 8259.790952380954\n",
      "MSE: 111105085.9859217\n",
      "R2 Score: 0.8408744802780284\n",
      "\n",
      "XGBoostRegressor Metrics:\n",
      "MAE: 4221.23369140625\n",
      "MSE: 28797322.413887214\n",
      "R2 Score: 0.9587562634505172\n"
     ]
    }
   ],
   "source": [
    "from sklearn.metrics import mean_absolute_error, mean_squared_error, r2_score\n",
    "\n",
    "mae_tree = mean_absolute_error(y_test, y_test_pred)\n",
    "mse_tree = mean_squared_error(y_test, y_test_pred)\n",
    "r2_tree = r2_score(y_test, y_test_pred)\n",
    "\n",
    "mae_xgb = mean_absolute_error(y_test, y_test_pred_xgb)\n",
    "mse_xgb = mean_squared_error(y_test, y_test_pred_xgb)\n",
    "r2_xgb = r2_score(y_test, y_test_pred_xgb)\n",
    "\n",
    "print(\"DecisionTreeRegressor Metrics:\")\n",
    "print(\"MAE:\", mae_tree)\n",
    "print(\"MSE:\", mse_tree)\n",
    "print(\"R2 Score:\", r2_tree)\n",
    "print()\n",
    "\n",
    "print(\"XGBoostRegressor Metrics:\")\n",
    "print(\"MAE:\", mae_xgb)\n",
    "print(\"MSE:\", mse_xgb)\n",
    "print(\"R2 Score:\", r2_xgb)\n"
   ]
  },
  {
   "cell_type": "code",
   "execution_count": null,
   "id": "e4f36361-c4f8-4a9d-b5c7-c52d271c17c6",
   "metadata": {},
   "outputs": [],
   "source": []
  }
 ],
 "metadata": {
  "kernelspec": {
   "display_name": "lab3",
   "language": "python",
   "name": "lab3"
  },
  "language_info": {
   "codemirror_mode": {
    "name": "ipython",
    "version": 3
   },
   "file_extension": ".py",
   "mimetype": "text/x-python",
   "name": "python",
   "nbconvert_exporter": "python",
   "pygments_lexer": "ipython3",
   "version": "3.11.6"
  }
 },
 "nbformat": 4,
 "nbformat_minor": 5
}
